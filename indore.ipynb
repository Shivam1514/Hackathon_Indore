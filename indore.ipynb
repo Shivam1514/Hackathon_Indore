{
  "nbformat": 4,
  "nbformat_minor": 0,
  "metadata": {
    "colab": {
      "provenance": [],
      "authorship_tag": "ABX9TyN9fLBZPDZo8gr5FrRP/EYV",
      "include_colab_link": true
    },
    "kernelspec": {
      "name": "python3",
      "display_name": "Python 3"
    },
    "language_info": {
      "name": "python"
    }
  },
  "cells": [
    {
      "cell_type": "markdown",
      "metadata": {
        "id": "view-in-github",
        "colab_type": "text"
      },
      "source": [
        "<a href=\"https://colab.research.google.com/github/Shivam1514/Hackathon_Indore/blob/main/indore.ipynb\" target=\"_parent\"><img src=\"https://colab.research.google.com/assets/colab-badge.svg\" alt=\"Open In Colab\"/></a>"
      ]
    },
    {
      "cell_type": "code",
      "execution_count": 1,
      "metadata": {
        "colab": {
          "base_uri": "https://localhost:8080/"
        },
        "id": "CuXKhmS-Poh-",
        "outputId": "0544d746-3266-456d-a75b-c03d0b024408"
      },
      "outputs": [
        {
          "output_type": "stream",
          "name": "stdout",
          "text": [
            "Requirement already satisfied: opencv-contrib-python in /usr/local/lib/python3.10/dist-packages (4.10.0.84)\n",
            "Requirement already satisfied: numpy>=1.21.2 in /usr/local/lib/python3.10/dist-packages (from opencv-contrib-python) (1.25.2)\n"
          ]
        }
      ],
      "source": [
        "pip install opencv-contrib-python"
      ]
    },
    {
      "cell_type": "code",
      "source": [
        "pip install opencv-python"
      ],
      "metadata": {
        "colab": {
          "base_uri": "https://localhost:8080/"
        },
        "id": "2KURFJnUP1zo",
        "outputId": "e9019874-2673-4e38-bdb6-789ad9facbc8"
      },
      "execution_count": 2,
      "outputs": [
        {
          "output_type": "stream",
          "name": "stdout",
          "text": [
            "Requirement already satisfied: opencv-python in /usr/local/lib/python3.10/dist-packages (4.10.0.84)\n",
            "Requirement already satisfied: numpy>=1.21.2 in /usr/local/lib/python3.10/dist-packages (from opencv-python) (1.25.2)\n"
          ]
        }
      ]
    },
    {
      "cell_type": "code",
      "source": [
        "pip install times"
      ],
      "metadata": {
        "colab": {
          "base_uri": "https://localhost:8080/"
        },
        "id": "la_NnpmSP9S0",
        "outputId": "b4d599d8-d140-4e7d-a1a0-2d1ae8428d05"
      },
      "execution_count": 3,
      "outputs": [
        {
          "output_type": "stream",
          "name": "stdout",
          "text": [
            "Collecting times\n",
            "  Downloading times-0.7-py2.py3-none-any.whl.metadata (2.0 kB)\n",
            "Collecting arrow (from times)\n",
            "  Downloading arrow-1.3.0-py3-none-any.whl.metadata (7.5 kB)\n",
            "Requirement already satisfied: python-dateutil>=2.7.0 in /usr/local/lib/python3.10/dist-packages (from arrow->times) (2.8.2)\n",
            "Collecting types-python-dateutil>=2.8.10 (from arrow->times)\n",
            "  Downloading types_python_dateutil-2.9.0.20240316-py3-none-any.whl.metadata (1.8 kB)\n",
            "Requirement already satisfied: six>=1.5 in /usr/local/lib/python3.10/dist-packages (from python-dateutil>=2.7.0->arrow->times) (1.16.0)\n",
            "Downloading times-0.7-py2.py3-none-any.whl (3.8 kB)\n",
            "Downloading arrow-1.3.0-py3-none-any.whl (66 kB)\n",
            "\u001b[2K   \u001b[90m━━━━━━━━━━━━━━━━━━━━━━━━━━━━━━━━━━━━━━━━\u001b[0m \u001b[32m66.4/66.4 kB\u001b[0m \u001b[31m2.9 MB/s\u001b[0m eta \u001b[36m0:00:00\u001b[0m\n",
            "\u001b[?25hDownloading types_python_dateutil-2.9.0.20240316-py3-none-any.whl (9.7 kB)\n",
            "Installing collected packages: types-python-dateutil, arrow, times\n",
            "Successfully installed arrow-1.3.0 times-0.7 types-python-dateutil-2.9.0.20240316\n"
          ]
        }
      ]
    },
    {
      "cell_type": "code",
      "source": [
        "pip install numpy\n"
      ],
      "metadata": {
        "colab": {
          "base_uri": "https://localhost:8080/"
        },
        "id": "Fcis43X3QCRz",
        "outputId": "84899af9-6e4f-4b48-c057-60de67655e21"
      },
      "execution_count": 4,
      "outputs": [
        {
          "output_type": "stream",
          "name": "stdout",
          "text": [
            "Requirement already satisfied: numpy in /usr/local/lib/python3.10/dist-packages (1.25.2)\n"
          ]
        }
      ]
    },
    {
      "cell_type": "code",
      "source": [
        "import cv2\n",
        "import numpy as np\n",
        "from time import sleep\n",
        "\n",
        "# Minimum dimensions for detecting boxes\n",
        "largura_min = 80  # Minimum width of the box\n",
        "altura_min = 80   # Minimum height of the box\n",
        "\n",
        "# Parameters for counting line and detection\n",
        "offset = 6        # Allowed error in pixels for line crossing\n",
        "pos_linha = 550   # Position of the counting line\n",
        "delay = 60        # Delay to match FPS of the video\n",
        "\n",
        "# List to store detected box centers and counter for boxes\n",
        "detec = []\n",
        "boxes = 0\n",
        "\n",
        "def pega_centro(x, y, w, h):\n",
        "    \"\"\"\n",
        "    Calculate the center of a bounding box.\n",
        "    \"\"\"\n",
        "    x1 = int(w / 2)\n",
        "    y1 = int(h / 2)\n",
        "    cx = x + x1\n",
        "    cy = y + y1\n",
        "    return cx, cy\n",
        "\n",
        "# Initialize video capture and background subtractor\n",
        "cap = cv2.VideoCapture('video.mp4')\n",
        "subtracao = cv2.bgsegm.createBackgroundSubtractorMOG()\n",
        "\n",
        "while True:\n",
        "    ret, frame1 = cap.read()\n",
        "    if not ret:\n",
        "        break  # Exit loop if no frame is read (end of video)\n",
        "\n",
        "    tempo = float(1 / delay)\n",
        "    sleep(tempo)\n",
        "\n",
        "    # Convert frame to grayscale and apply Gaussian blur\n",
        "    grey = cv2.cvtColor(frame1, cv2.COLOR_BGR2GRAY)\n",
        "    blur = cv2.GaussianBlur(grey, (3, 3), 5)\n",
        "\n",
        "    # Apply background subtraction and morphological operations\n",
        "    img_sub = subtracao.apply(blur)\n",
        "    dilat = cv2.dilate(img_sub, np.ones((5, 5)))\n",
        "    kernel = cv2.getStructuringElement(cv2.MORPH_ELLIPSE, (5, 5))\n",
        "    dilatada = cv2.morphologyEx(dilat, cv2.MORPH_CLOSE, kernel)\n",
        "    dilatada = cv2.morphologyEx(dilatada, cv2.MORPH_CLOSE, kernel)\n",
        "\n",
        "    # Find contours in the processed image\n",
        "    contorno, _ = cv2.findContours(dilatada, cv2.RETR_TREE, cv2.CHAIN_APPROX_SIMPLE)\n",
        "\n",
        "    # Draw the counting line\n",
        "    cv2.line(frame1, (25, pos_linha), (1200, pos_linha), (255, 127, 0), 3)\n",
        "\n",
        "    # Iterate over contours to draw bounding boxes and detect boxes\n",
        "    for i, c in enumerate(contorno):\n",
        "        (x, y, w, h) = cv2.boundingRect(c)\n",
        "        validar_contorno = (w >= largura_min) and (h >= altura_min)\n",
        "        if not validar_contorno:\n",
        "            continue\n",
        "\n",
        "        # Draw bounding box and center\n",
        "        cv2.rectangle(frame1, (x, y), (x + w, y + h), (0, 255, 0), 2)\n",
        "        centro = pega_centro(x, y, w, h)\n",
        "        detec.append(centro)\n",
        "        cv2.circle(frame1, centro, 4, (0, 0, 255), -1)\n",
        "\n",
        "    # Update box count based on crossing the line\n",
        "    for (x, y) in detec[:]:\n",
        "        if y < (pos_linha + offset) and y > (pos_linha - offset):\n",
        "            boxes += 1\n",
        "            cv2.line(frame1, (25, pos_linha), (1200, pos_linha), (0, 127, 255), 3)\n",
        "            detec.remove((x, y))\n",
        "            print(\"Box detected: \" + str(boxes))\n",
        "\n",
        "    # Display box count on the frame\n",
        "    cv2.putText(frame1, \"BOX COUNT : \" + str(boxes), (450, 70), cv2.FONT_HERSHEY_SIMPLEX, 2, (0, 0, 255), 5)\n",
        "\n",
        "    # Show the original frame and processed image\n",
        "    # cv2.imshow(\"Video Original\", frame1)\n",
        "    # cv2.imshow(\"Detectar\", dilatada)\n",
        "\n",
        "    # Exit the loop if 'ESC' key is pressed\n",
        "    if cv2.waitKey(1) == 27:\n",
        "        break\n",
        "\n",
        "# Release video capture and close windows\n",
        "cv2.destroyAllWindows()\n",
        "cap.release()"
      ],
      "metadata": {
        "colab": {
          "base_uri": "https://localhost:8080/",
          "height": 1000
        },
        "id": "tr4T6S5nQNQG",
        "outputId": "3670c022-b5e1-492c-f264-0e4fa9cb83fc"
      },
      "execution_count": 8,
      "outputs": [
        {
          "output_type": "stream",
          "name": "stdout",
          "text": [
            "Box detected: 1\n",
            "Box detected: 2\n",
            "Box detected: 3\n",
            "Box detected: 4\n",
            "Box detected: 5\n",
            "Box detected: 6\n",
            "Box detected: 7\n",
            "Box detected: 8\n",
            "Box detected: 9\n",
            "Box detected: 10\n",
            "Box detected: 11\n",
            "Box detected: 12\n",
            "Box detected: 13\n",
            "Box detected: 14\n",
            "Box detected: 15\n",
            "Box detected: 16\n",
            "Box detected: 17\n",
            "Box detected: 18\n",
            "Box detected: 19\n",
            "Box detected: 20\n",
            "Box detected: 21\n",
            "Box detected: 22\n",
            "Box detected: 23\n",
            "Box detected: 24\n",
            "Box detected: 25\n",
            "Box detected: 26\n",
            "Box detected: 27\n",
            "Box detected: 28\n",
            "Box detected: 29\n",
            "Box detected: 30\n",
            "Box detected: 31\n",
            "Box detected: 32\n",
            "Box detected: 33\n",
            "Box detected: 34\n",
            "Box detected: 35\n",
            "Box detected: 36\n",
            "Box detected: 37\n",
            "Box detected: 38\n",
            "Box detected: 39\n",
            "Box detected: 40\n",
            "Box detected: 41\n",
            "Box detected: 42\n",
            "Box detected: 43\n",
            "Box detected: 44\n",
            "Box detected: 45\n",
            "Box detected: 46\n",
            "Box detected: 47\n",
            "Box detected: 48\n",
            "Box detected: 49\n",
            "Box detected: 50\n",
            "Box detected: 51\n",
            "Box detected: 52\n",
            "Box detected: 53\n",
            "Box detected: 54\n",
            "Box detected: 55\n",
            "Box detected: 56\n",
            "Box detected: 57\n",
            "Box detected: 58\n",
            "Box detected: 59\n",
            "Box detected: 60\n",
            "Box detected: 61\n",
            "Box detected: 62\n",
            "Box detected: 63\n",
            "Box detected: 64\n",
            "Box detected: 65\n",
            "Box detected: 66\n",
            "Box detected: 67\n",
            "Box detected: 68\n",
            "Box detected: 69\n",
            "Box detected: 70\n",
            "Box detected: 71\n",
            "Box detected: 72\n",
            "Box detected: 73\n",
            "Box detected: 74\n",
            "Box detected: 75\n",
            "Box detected: 76\n",
            "Box detected: 77\n",
            "Box detected: 78\n",
            "Box detected: 79\n",
            "Box detected: 80\n",
            "Box detected: 81\n",
            "Box detected: 82\n",
            "Box detected: 83\n",
            "Box detected: 84\n",
            "Box detected: 85\n",
            "Box detected: 86\n",
            "Box detected: 87\n",
            "Box detected: 88\n",
            "Box detected: 89\n",
            "Box detected: 90\n",
            "Box detected: 91\n",
            "Box detected: 92\n",
            "Box detected: 93\n",
            "Box detected: 94\n",
            "Box detected: 95\n",
            "Box detected: 96\n",
            "Box detected: 97\n",
            "Box detected: 98\n",
            "Box detected: 99\n",
            "Box detected: 100\n",
            "Box detected: 101\n",
            "Box detected: 102\n",
            "Box detected: 103\n",
            "Box detected: 104\n",
            "Box detected: 105\n",
            "Box detected: 106\n",
            "Box detected: 107\n",
            "Box detected: 108\n",
            "Box detected: 109\n",
            "Box detected: 110\n",
            "Box detected: 111\n",
            "Box detected: 112\n",
            "Box detected: 113\n",
            "Box detected: 114\n",
            "Box detected: 115\n",
            "Box detected: 116\n",
            "Box detected: 117\n",
            "Box detected: 118\n",
            "Box detected: 119\n",
            "Box detected: 120\n",
            "Box detected: 121\n",
            "Box detected: 122\n",
            "Box detected: 123\n",
            "Box detected: 124\n",
            "Box detected: 125\n",
            "Box detected: 126\n",
            "Box detected: 127\n",
            "Box detected: 128\n",
            "Box detected: 129\n",
            "Box detected: 130\n",
            "Box detected: 131\n",
            "Box detected: 132\n",
            "Box detected: 133\n",
            "Box detected: 134\n",
            "Box detected: 135\n",
            "Box detected: 136\n",
            "Box detected: 137\n",
            "Box detected: 138\n",
            "Box detected: 139\n",
            "Box detected: 140\n",
            "Box detected: 141\n",
            "Box detected: 142\n",
            "Box detected: 143\n",
            "Box detected: 144\n",
            "Box detected: 145\n",
            "Box detected: 146\n",
            "Box detected: 147\n",
            "Box detected: 148\n",
            "Box detected: 149\n"
          ]
        },
        {
          "output_type": "error",
          "ename": "KeyboardInterrupt",
          "evalue": "",
          "traceback": [
            "\u001b[0;31m---------------------------------------------------------------------------\u001b[0m",
            "\u001b[0;31mKeyboardInterrupt\u001b[0m                         Traceback (most recent call last)",
            "\u001b[0;32m<ipython-input-8-61255c87bfb8>\u001b[0m in \u001b[0;36m<cell line: 32>\u001b[0;34m()\u001b[0m\n\u001b[1;32m     50\u001b[0m \u001b[0;34m\u001b[0m\u001b[0m\n\u001b[1;32m     51\u001b[0m     \u001b[0;31m# Find contours in the processed image\u001b[0m\u001b[0;34m\u001b[0m\u001b[0;34m\u001b[0m\u001b[0m\n\u001b[0;32m---> 52\u001b[0;31m     \u001b[0mcontorno\u001b[0m\u001b[0;34m,\u001b[0m \u001b[0m_\u001b[0m \u001b[0;34m=\u001b[0m \u001b[0mcv2\u001b[0m\u001b[0;34m.\u001b[0m\u001b[0mfindContours\u001b[0m\u001b[0;34m(\u001b[0m\u001b[0mdilatada\u001b[0m\u001b[0;34m,\u001b[0m \u001b[0mcv2\u001b[0m\u001b[0;34m.\u001b[0m\u001b[0mRETR_TREE\u001b[0m\u001b[0;34m,\u001b[0m \u001b[0mcv2\u001b[0m\u001b[0;34m.\u001b[0m\u001b[0mCHAIN_APPROX_SIMPLE\u001b[0m\u001b[0;34m)\u001b[0m\u001b[0;34m\u001b[0m\u001b[0;34m\u001b[0m\u001b[0m\n\u001b[0m\u001b[1;32m     53\u001b[0m \u001b[0;34m\u001b[0m\u001b[0m\n\u001b[1;32m     54\u001b[0m     \u001b[0;31m# Draw the counting line\u001b[0m\u001b[0;34m\u001b[0m\u001b[0;34m\u001b[0m\u001b[0m\n",
            "\u001b[0;31mKeyboardInterrupt\u001b[0m: "
          ]
        }
      ]
    }
  ]
}